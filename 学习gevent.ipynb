{
 "cells": [
  {
   "cell_type": "markdown",
   "metadata": {},
   "source": [
    "# 并发和并行\n",
    "并发是多个事件在同一时间段内发生  \n",
    "并行是多个事件在同一时刻发生  \n",
    "并行是多核，并发则不一定是多核，单核也能够实现并发。  \n",
    "\n",
    "进程 线程 协程 异步\n",
    "并发编程（不是并行）目前有四种方式：多进程、多线程、协程。\n",
    "\n",
    "多进程编程在python中有类似C的os.fork,更高层封装的有multiprocessing标准库  \n",
    "多线程编程python中有Thread和threading  \n",
    "协程在linux下主+要有三种实现select，poll，epoll  \n",
    "协程在python中通常会说到yield，关于协程的库主要有greenlet,stackless,gevent,eventlet等。\n",
    "\n",
    "Golang中的协程可以利用多核，Python中的协程无法利用多核，就像线程一样，只不过它比线程轻量很多。\n",
    "\n",
    "gevent是Python协程库。\n",
    "* 基于libev的快速事件循环(Linux上epoll，FreeBSD上kqueue）。\n",
    "* 基于greenlet的轻量级执行单元。\n",
    "* API的概念和Python标准库一致(如事件，队列)。\n",
    "* 可以配合socket，ssl模块使用。\n",
    "* 能够使用标准库和第三方模块创建标准的阻塞套接字(gevent.monkey)。\n",
    "* 默认通过线程池进行DNS查询,也可通过c-are(通过GEVENT_RESOLVER=ares环境变量开启）。\n",
    "* TCP/UDP/HTTP服务器\n",
    "* 子进程支持（通过gevent.subprocess）\n",
    "\n",
    "\n",
    "Greenlet的状态\n",
    "greenlet的状态通常是一个依赖于时间的参数：\n",
    "\n",
    "* started – Boolean, 指示此Greenlet是否已经启动\n",
    "* ready() – Boolean, 指示此Greenlet是否已经停止\n",
    "* successful() – Boolean, 指示此Greenlet是否已经停止而且没抛异常\n",
    "* value – 任意值, 此Greenlet代码返回的值，使用get()方法可以获取value\n",
    "* exception – 异常, 此Greenlet内抛出的未捕获异常\n",
    "\n",
    "\n",
    "**Python是一门胶水语言，它把各种网络请求得到的数据粘合在一起**"
   ]
  },
  {
   "cell_type": "code",
   "execution_count": 1,
   "metadata": {},
   "outputs": [],
   "source": [
    "from gevent import monkey\n",
    "\n",
    "# 使用下面这一句话就能够让全部同步变成异步，性能得到巨大提升\n",
    "monkey.patch_socket()"
   ]
  },
  {
   "cell_type": "code",
   "execution_count": 2,
   "metadata": {},
   "outputs": [
    {
     "name": "stdout",
     "output_type": "stream",
     "text": [
      "<Greenlet at 0x7fba10495170: f(5)> 0\n",
      "<Greenlet at 0x7fba10495170: f(5)> 1\n",
      "<Greenlet at 0x7fba10495170: f(5)> 2\n",
      "<Greenlet at 0x7fba10495170: f(5)> 3\n",
      "<Greenlet at 0x7fba10495170: f(5)> 4\n",
      "<Greenlet at 0x7fb9f05f3710: f(5)> 0\n",
      "<Greenlet at 0x7fb9f05f3710: f(5)> 1\n",
      "<Greenlet at 0x7fb9f05f3710: f(5)> 2\n",
      "<Greenlet at 0x7fb9f05f3710: f(5)> 3\n",
      "<Greenlet at 0x7fb9f05f3710: f(5)> 4\n",
      "<Greenlet at 0x7fb9f05f35f0: f(5)> 0\n",
      "<Greenlet at 0x7fb9f05f35f0: f(5)> 1\n",
      "<Greenlet at 0x7fb9f05f35f0: f(5)> 2\n",
      "<Greenlet at 0x7fb9f05f35f0: f(5)> 3\n",
      "<Greenlet at 0x7fb9f05f35f0: f(5)> 4\n"
     ]
    }
   ],
   "source": [
    "import gevent\n",
    "\"\"\"\n",
    "使用join可以发现这个进程是同步执行的\n",
    "\"\"\"\n",
    "\n",
    "def f(n):\n",
    "    for i in range(n):\n",
    "        print(gevent.getcurrent(), i)\n",
    "\n",
    "\n",
    "g1 = gevent.spawn(f, 5)\n",
    "g2 = gevent.spawn(f, 5)\n",
    "g3 = gevent.spawn(f, 5)\n",
    "g1.join()\n",
    "g2.join()\n",
    "g3.join()"
   ]
  },
  {
   "cell_type": "code",
   "execution_count": 1,
   "metadata": {},
   "outputs": [
    {
     "name": "stdout",
     "output_type": "stream",
     "text": [
      "GET: https://www.baidu.com/\n",
      "2443 bytes received from https://www.baidu.com/.\n",
      "GET: https://www.zhihu.com/\n",
      "170 bytes received from https://www.zhihu.com/.\n",
      "GET: https://weiyinfu.cn/\n",
      "688 bytes received from https://weiyinfu.cn/.\n",
      "total length 3301\n"
     ]
    }
   ],
   "source": [
    "import gevent\n",
    "import requests\n",
    "\n",
    "\"\"\"\n",
    "使用joinall等待全部协程结束\n",
    "使用这种方式写爬虫，速度非常快\n",
    "\"\"\"\n",
    "res=[]\n",
    "def f(url):\n",
    "    print('GET: %s' % url)\n",
    "    resp = requests.get(url)\n",
    "    data = resp.text\n",
    "    print('%d bytes received from %s.' % (len(data), url))\n",
    "    res.append(data)\n",
    "\n",
    "gevent.joinall([\n",
    "        gevent.spawn(f, 'https://www.baidu.com/'),\n",
    "        gevent.spawn(f, 'https://www.zhihu.com/'),\n",
    "        gevent.spawn(f, 'https://weiyinfu.cn/'),\n",
    "])\n",
    "print('total length',sum(len(i)for i in res))"
   ]
  },
  {
   "cell_type": "code",
   "execution_count": 29,
   "metadata": {},
   "outputs": [
    {
     "name": "stdout",
     "output_type": "stream",
     "text": [
      "['123.206.21.187', '61.135.185.32']\n",
      "['123.206.21.187', '61.135.185.32']\n"
     ]
    }
   ],
   "source": [
    "from gevent import socket\n",
    "jobs=gevent.joinall([\n",
    "        gevent.spawn(socket.gethostbyname, 'www.baidu.com'),\n",
    "        gevent.spawn(socket.gethostbyname, 'weiyinfu.cn'),\n",
    "],timeout=3)# 此处可以使用timeout参数设置超时\n",
    "# 使用get和value是一样的效果\n",
    "print([i.value for i in jobs])\n",
    "print([i.get() for i in jobs])"
   ]
  },
  {
   "cell_type": "code",
   "execution_count": 3,
   "metadata": {},
   "outputs": [
    {
     "name": "stdout",
     "output_type": "stream",
     "text": [
      "one\n",
      "two\n",
      "three\n",
      "['one', 'two', 'three']\n",
      "9.007352113723755\n"
     ]
    }
   ],
   "source": [
    "import gevent\n",
    "import requests\n",
    "import time\n",
    "\"\"\"\n",
    "使用joinall等待全部协程结束\n",
    "使用time.sleep并不能够利用多核\n",
    "\"\"\"\n",
    "res=[]\n",
    "def f(name):\n",
    "    print(name)\n",
    "    time.sleep(3)\n",
    "    res.append(name)\n",
    "begin_time=time.time()\n",
    "gevent.joinall([\n",
    "        gevent.spawn(f, 'one'),\n",
    "        gevent.spawn(f, 'two'),\n",
    "        gevent.spawn(f, 'three'),\n",
    "])\n",
    "end_time=time.time()\n",
    "print(res)\n",
    "print(end_time-begin_time)"
   ]
  },
  {
   "cell_type": "code",
   "execution_count": 5,
   "metadata": {},
   "outputs": [
    {
     "name": "stdout",
     "output_type": "stream",
     "text": [
      "one\n",
      "two\n",
      "three\n",
      "['one', 'two', 'three']\n",
      "3.0049569606781006\n"
     ]
    }
   ],
   "source": [
    "import gevent\n",
    "import requests\n",
    "import time\n",
    "\"\"\"\n",
    "使用joinall等待全部协程结束\n",
    "使用time.sleep并不能够利用多核，因为sleep是系统调用\n",
    "\"\"\"\n",
    "res=[]\n",
    "def f(name):\n",
    "    print(name)\n",
    "    gevent.sleep(3)\n",
    "    res.append(name)\n",
    "begin_time=time.time()\n",
    "gevent.joinall([\n",
    "        gevent.spawn(f, 'one'),\n",
    "        gevent.spawn(f, 'two'),\n",
    "        gevent.spawn(f, 'three'),\n",
    "])\n",
    "end_time=time.time()\n",
    "print(res)\n",
    "print(end_time-begin_time)"
   ]
  },
  {
   "cell_type": "markdown",
   "metadata": {},
   "source": [
    "打补丁"
   ]
  },
  {
   "cell_type": "code",
   "execution_count": null,
   "metadata": {},
   "outputs": [],
   "source": [
    "from gevent import monkey; monkey.patch_socket()\n",
    "from gevent import monkey; monkey.patch_all()\n",
    "from gevent import monkey; monkey.patch_select()"
   ]
  },
  {
   "cell_type": "code",
   "execution_count": 25,
   "metadata": {},
   "outputs": [
    {
     "name": "stdout",
     "output_type": "stream",
     "text": [
      "[]\n"
     ]
    }
   ],
   "source": [
    "#主进程结束，协程立马退出，协程是一个deamon\n",
    "res=[]\n",
    "def f(name):\n",
    "    print(name)\n",
    "    gevent.sleep(13)\n",
    "    res.append(name)\n",
    "gevent.spawn(f, 'one')\n",
    "print(res)"
   ]
  },
  {
   "cell_type": "markdown",
   "metadata": {},
   "source": [
    "# 锁和信号量\n",
    "信号量是一个允许greenlet相互合作，限制并发访问或运行的低层次的同步原语。 信号量有两个方法，acquire和release。在信号量是否已经被 acquire或release，和拥有资源的数量之间不同，被称为此信号量的范围 (the bound of the semaphore)。如果一个信号量的范围已经降低到0，它会 阻塞acquire操作直到另一个已经获得信号量的greenlet作出释放。"
   ]
  },
  {
   "cell_type": "code",
   "execution_count": 33,
   "metadata": {},
   "outputs": [
    {
     "name": "stdout",
     "output_type": "stream",
     "text": [
      "Worker 0 acquired semaphore\n",
      "Worker 1 acquired semaphore\n",
      "Worker 0 released semaphore\n",
      "Worker 1 released semaphore\n"
     ]
    },
    {
     "data": {
      "text/plain": [
       "[None, None]"
      ]
     },
     "execution_count": 33,
     "metadata": {},
     "output_type": "execute_result"
    }
   ],
   "source": [
    "from gevent import sleep\n",
    "from gevent.pool import Pool\n",
    "from gevent import lock\n",
    "sem = lock.BoundedSemaphore(2)\n",
    "def worker1(n):\n",
    "    sem.acquire()\n",
    "    print('Worker %i acquired semaphore' % n)\n",
    "    sleep(0)\n",
    "    sem.release()\n",
    "    print('Worker %i released semaphore' % n)\n",
    "def worker2(n):\n",
    "    with sem:\n",
    "        print('Worker %i acquired semaphore' % n)\n",
    "        sleep(0)\n",
    "    print('Worker %i released semaphore' % n)\n",
    "pool = Pool()\n",
    "pool.map(worker1, range(0,2))"
   ]
  },
  {
   "cell_type": "code",
   "execution_count": 31,
   "metadata": {},
   "outputs": [
    {
     "data": {
      "text/plain": [
       "['Greenlet',\n",
       " 'GreenletExit',\n",
       " 'Timeout',\n",
       " '__abstract_linkable',\n",
       " '__all__',\n",
       " '__builtins__',\n",
       " '__cached__',\n",
       " '__doc__',\n",
       " '__file__',\n",
       " '__greenlet_primitives',\n",
       " '__hub_local',\n",
       " '__hub_primitives',\n",
       " '__ident',\n",
       " '__imap',\n",
       " '__loader__',\n",
       " '__name__',\n",
       " '__package__',\n",
       " '__path__',\n",
       " '__semaphore',\n",
       " '__spec__',\n",
       " '__version__',\n",
       " '__waiter',\n",
       " '_abstract_linkable',\n",
       " '_compat',\n",
       " '_config',\n",
       " '_event',\n",
       " '_greenlet',\n",
       " '_greenlet_primitives',\n",
       " '_hub_local',\n",
       " '_hub_primitives',\n",
       " '_ident',\n",
       " '_imap',\n",
       " '_queue',\n",
       " '_semaphore',\n",
       " '_signal_class',\n",
       " '_signal_metaclass',\n",
       " '_signal_module',\n",
       " '_socket3',\n",
       " '_socketcommon',\n",
       " '_tblib',\n",
       " '_threading',\n",
       " '_util',\n",
       " '_version_info',\n",
       " '_waiter',\n",
       " 'absolute_import',\n",
       " 'config',\n",
       " 'event',\n",
       " 'exceptions',\n",
       " 'fork',\n",
       " 'get_hub',\n",
       " 'getcurrent',\n",
       " 'getswitchinterval',\n",
       " 'greenlet',\n",
       " 'hub',\n",
       " 'idle',\n",
       " 'iwait',\n",
       " 'joinall',\n",
       " 'kill',\n",
       " 'killall',\n",
       " 'libev',\n",
       " 'lock',\n",
       " 'monkey',\n",
       " 'namedtuple',\n",
       " 'os',\n",
       " 'pool',\n",
       " 'queue',\n",
       " 'reinit',\n",
       " 'resolver',\n",
       " 'setswitchinterval',\n",
       " 'signal',\n",
       " 'signal_handler',\n",
       " 'sleep',\n",
       " 'socket',\n",
       " 'spawn',\n",
       " 'spawn_later',\n",
       " 'spawn_raw',\n",
       " 'threadpool',\n",
       " 'timeout',\n",
       " 'version_info',\n",
       " 'wait',\n",
       " 'with_timeout']"
      ]
     },
     "execution_count": 31,
     "metadata": {},
     "output_type": "execute_result"
    }
   ],
   "source": [
    "dir(gevent)"
   ]
  },
  {
   "cell_type": "markdown",
   "metadata": {},
   "source": [
    "# 协程局部变量"
   ]
  },
  {
   "cell_type": "code",
   "execution_count": 34,
   "metadata": {},
   "outputs": [
    {
     "name": "stdout",
     "output_type": "stream",
     "text": [
      "1\n",
      "2\n",
      "x is not local to f2\n"
     ]
    },
    {
     "data": {
      "text/plain": [
       "[<Greenlet at 0x7f86489c4cb0: _run>, <Greenlet at 0x7f86489c4ef0: _run>]"
      ]
     },
     "execution_count": 34,
     "metadata": {},
     "output_type": "execute_result"
    }
   ],
   "source": [
    "import gevent\n",
    "from gevent.local import local\n",
    "stash = local()\n",
    "def f1():\n",
    "    stash.x = 1\n",
    "    print(stash.x)\n",
    "def f2():\n",
    "    stash.y = 2\n",
    "    print(stash.y)\n",
    "    try:\n",
    "        stash.x\n",
    "    except AttributeError:\n",
    "        print(\"x is not local to f2\")\n",
    "g1 = gevent.spawn(f1)\n",
    "g2 = gevent.spawn(f2)\n",
    "gevent.joinall([g1, g2])"
   ]
  },
  {
   "cell_type": "markdown",
   "metadata": {},
   "source": [
    "# 子进程"
   ]
  },
  {
   "cell_type": "code",
   "execution_count": 35,
   "metadata": {},
   "outputs": [
    {
     "name": "stdout",
     "output_type": "stream",
     "text": [
      "cron\n",
      "cron\n",
      "cron\n",
      "cron\n",
      "cron\n",
      "cron\n",
      "b'Darwin'\n"
     ]
    }
   ],
   "source": [
    "import gevent\n",
    "from gevent.subprocess import Popen, PIPE\n",
    "def cron():\n",
    "    while True:\n",
    "        print(\"cron\")\n",
    "        gevent.sleep(0.2)\n",
    "g = gevent.spawn(cron)\n",
    "sub = Popen(['sleep 1; uname'], stdout=PIPE, shell=True)\n",
    "out, err = sub.communicate()\n",
    "g.kill()\n",
    "print(out.rstrip())"
   ]
  },
  {
   "cell_type": "markdown",
   "metadata": {},
   "source": [
    "# 简单实现server"
   ]
  },
  {
   "cell_type": "code",
   "execution_count": 36,
   "metadata": {
    "collapsed": true
   },
   "outputs": [
    {
     "name": "stderr",
     "output_type": "stream",
     "text": [
      "KeyboardInterrupt\n",
      "2020-11-12T11:22:36Z\n"
     ]
    },
    {
     "ename": "KeyboardInterrupt",
     "evalue": "",
     "output_type": "error",
     "traceback": [
      "\u001b[0;31m---------------------------------------------------------------------------\u001b[0m",
      "\u001b[0;31mKeyboardInterrupt\u001b[0m                         Traceback (most recent call last)",
      "\u001b[0;32m<ipython-input-36-95b8f384d688>\u001b[0m in \u001b[0;36m<module>\u001b[0;34m\u001b[0m\n\u001b[1;32m      6\u001b[0m     \u001b[0msocket\u001b[0m\u001b[0;34m.\u001b[0m\u001b[0mclose\u001b[0m\u001b[0;34m(\u001b[0m\u001b[0;34m)\u001b[0m\u001b[0;34m\u001b[0m\u001b[0;34m\u001b[0m\u001b[0m\n\u001b[1;32m      7\u001b[0m \u001b[0mserver\u001b[0m \u001b[0;34m=\u001b[0m \u001b[0mStreamServer\u001b[0m\u001b[0;34m(\u001b[0m\u001b[0;34m(\u001b[0m\u001b[0;34m'127.0.0.1'\u001b[0m\u001b[0;34m,\u001b[0m \u001b[0;36m5000\u001b[0m\u001b[0;34m)\u001b[0m\u001b[0;34m,\u001b[0m \u001b[0mhandle\u001b[0m\u001b[0;34m)\u001b[0m\u001b[0;34m\u001b[0m\u001b[0;34m\u001b[0m\u001b[0m\n\u001b[0;32m----> 8\u001b[0;31m \u001b[0mserver\u001b[0m\u001b[0;34m.\u001b[0m\u001b[0mserve_forever\u001b[0m\u001b[0;34m(\u001b[0m\u001b[0;34m)\u001b[0m\u001b[0;34m\u001b[0m\u001b[0;34m\u001b[0m\u001b[0m\n\u001b[0m",
      "\u001b[0;32m~/anaconda3/lib/python3.7/site-packages/gevent/baseserver.py\u001b[0m in \u001b[0;36mserve_forever\u001b[0;34m(self, stop_timeout)\u001b[0m\n\u001b[1;32m    367\u001b[0m             \u001b[0mself\u001b[0m\u001b[0;34m.\u001b[0m\u001b[0mstart\u001b[0m\u001b[0;34m(\u001b[0m\u001b[0;34m)\u001b[0m\u001b[0;34m\u001b[0m\u001b[0;34m\u001b[0m\u001b[0m\n\u001b[1;32m    368\u001b[0m         \u001b[0;32mtry\u001b[0m\u001b[0;34m:\u001b[0m\u001b[0;34m\u001b[0m\u001b[0;34m\u001b[0m\u001b[0m\n\u001b[0;32m--> 369\u001b[0;31m             \u001b[0mself\u001b[0m\u001b[0;34m.\u001b[0m\u001b[0m_stop_event\u001b[0m\u001b[0;34m.\u001b[0m\u001b[0mwait\u001b[0m\u001b[0;34m(\u001b[0m\u001b[0;34m)\u001b[0m\u001b[0;34m\u001b[0m\u001b[0;34m\u001b[0m\u001b[0m\n\u001b[0m\u001b[1;32m    370\u001b[0m         \u001b[0;32mfinally\u001b[0m\u001b[0;34m:\u001b[0m\u001b[0;34m\u001b[0m\u001b[0;34m\u001b[0m\u001b[0m\n\u001b[1;32m    371\u001b[0m             \u001b[0mGreenlet\u001b[0m\u001b[0;34m.\u001b[0m\u001b[0mspawn\u001b[0m\u001b[0;34m(\u001b[0m\u001b[0mself\u001b[0m\u001b[0;34m.\u001b[0m\u001b[0mstop\u001b[0m\u001b[0;34m,\u001b[0m \u001b[0mtimeout\u001b[0m\u001b[0;34m=\u001b[0m\u001b[0mstop_timeout\u001b[0m\u001b[0;34m)\u001b[0m\u001b[0;34m.\u001b[0m\u001b[0mjoin\u001b[0m\u001b[0;34m(\u001b[0m\u001b[0;34m)\u001b[0m\u001b[0;34m\u001b[0m\u001b[0;34m\u001b[0m\u001b[0m\n",
      "\u001b[0;32m~/anaconda3/lib/python3.7/site-packages/gevent/_event.cpython-37m-darwin.so\u001b[0m in \u001b[0;36mgevent._event.Event.wait\u001b[0;34m()\u001b[0m\n",
      "\u001b[0;32m~/anaconda3/lib/python3.7/site-packages/gevent/__abstract_linkable.cpython-37m-darwin.so\u001b[0m in \u001b[0;36mgevent.__abstract_linkable.AbstractLinkable._wait\u001b[0;34m()\u001b[0m\n",
      "\u001b[0;32m~/anaconda3/lib/python3.7/site-packages/gevent/__abstract_linkable.cpython-37m-darwin.so\u001b[0m in \u001b[0;36mgevent.__abstract_linkable.AbstractLinkable._wait_core\u001b[0;34m()\u001b[0m\n",
      "\u001b[0;32m~/anaconda3/lib/python3.7/site-packages/gevent/__abstract_linkable.cpython-37m-darwin.so\u001b[0m in \u001b[0;36mgevent.__abstract_linkable.AbstractLinkable._wait_core\u001b[0;34m()\u001b[0m\n",
      "\u001b[0;32m~/anaconda3/lib/python3.7/site-packages/gevent/__greenlet_primitives.cpython-37m-darwin.so\u001b[0m in \u001b[0;36mgevent.__greenlet_primitives.SwitchOutGreenletWithLoop.switch\u001b[0;34m()\u001b[0m\n",
      "\u001b[0;32m~/anaconda3/lib/python3.7/site-packages/gevent/__greenlet_primitives.cpython-37m-darwin.so\u001b[0m in \u001b[0;36mgevent.__greenlet_primitives.SwitchOutGreenletWithLoop.switch\u001b[0;34m()\u001b[0m\n",
      "\u001b[0;32m~/anaconda3/lib/python3.7/site-packages/gevent/__greenlet_primitives.cpython-37m-darwin.so\u001b[0m in \u001b[0;36mgevent.__greenlet_primitives.SwitchOutGreenletWithLoop.switch\u001b[0;34m()\u001b[0m\n",
      "\u001b[0;32msrc/gevent/__greenlet_primitives.pxd\u001b[0m in \u001b[0;36mgevent.__greenlet_primitives._greenlet_switch\u001b[0;34m()\u001b[0m\n",
      "\u001b[0;31mKeyboardInterrupt\u001b[0m: "
     ]
    }
   ],
   "source": [
    "from gevent.server import StreamServer\n",
    "def handle(socket, address):\n",
    "    socket.send(\"Hello from a telnet!\\n\")\n",
    "    for i in range(5):\n",
    "        socket.send(str(i) + '\\n')\n",
    "    socket.close()\n",
    "server = StreamServer(('127.0.0.1', 5000), handle)\n",
    "server.serve_forever()"
   ]
  },
  {
   "cell_type": "markdown",
   "metadata": {},
   "source": [
    "# Actor模型\n",
    "actor模型是一个由于Erlang变得普及的更高层的并发模型。 简单的说它的主要思想就是许多个独立的Actor，每个Actor有一个可以从 其它Actor接收消息的收件箱。Actor内部的主循环遍历它收到的消息，并根据它期望的行为来采取行动。\n",
    "\n",
    "Gevent没有原生的Actor类型，但在一个子类化的Greenlet内使用队列， 我们可以定义一个非常简单的。\n"
   ]
  },
  {
   "cell_type": "code",
   "execution_count": null,
   "metadata": {
    "scrolled": false
   },
   "outputs": [],
   "source": [
    "import gevent\n",
    "from gevent.queue import Queue\n",
    "from gevent import Greenlet\n",
    "class Actor(gevent.Greenlet):\n",
    "    def __init__(self):\n",
    "        self.inbox = Queue()\n",
    "        Greenlet.__init__(self)\n",
    "    def receive(self, message):\n",
    "        \"\"\"\n",
    "        Define in your subclass.\n",
    "        \"\"\"\n",
    "        raise NotImplemented()\n",
    "    def _run(self):\n",
    "        self.running = True\n",
    "        while self.running:\n",
    "            message = self.inbox.get()\n",
    "            self.receive(message)\n",
    "class Pinger(Actor):\n",
    "    def receive(self, message):\n",
    "        print(message)\n",
    "        pong.inbox.put('ping')\n",
    "        gevent.sleep(0)\n",
    "class Ponger(Actor):\n",
    "    def receive(self, message):\n",
    "        print(message)\n",
    "        ping.inbox.put('pong')\n",
    "        gevent.sleep(0)\n",
    "ping = Pinger()\n",
    "pong = Ponger()\n",
    "ping.start()\n",
    "pong.start()\n",
    "ping.inbox.put('start')\n",
    "gevent.joinall([ping, pong])"
   ]
  },
  {
   "cell_type": "code",
   "execution_count": 1,
   "metadata": {},
   "outputs": [],
   "source": [
    "import gevent"
   ]
  },
  {
   "cell_type": "code",
   "execution_count": 11,
   "metadata": {},
   "outputs": [],
   "source": [
    "import time\n",
    "def haha():\n",
    "    time.sleep(3)\n",
    "    print('haha')\n",
    "x=gevent.spawn(haha)\n",
    "x.start()"
   ]
  },
  {
   "cell_type": "code",
   "execution_count": 12,
   "metadata": {},
   "outputs": [
    {
     "name": "stdout",
     "output_type": "stream",
     "text": [
      "haha\n"
     ]
    }
   ],
   "source": [
    "x.get()"
   ]
  }
 ],
 "metadata": {
  "kernelspec": {
   "display_name": "Python 3",
   "language": "python",
   "name": "python3"
  },
  "language_info": {
   "codemirror_mode": {
    "name": "ipython",
    "version": 3
   },
   "file_extension": ".py",
   "mimetype": "text/x-python",
   "name": "python",
   "nbconvert_exporter": "python",
   "pygments_lexer": "ipython3",
   "version": "3.7.6"
  },
  "toc": {
   "base_numbering": 1,
   "nav_menu": {},
   "number_sections": true,
   "sideBar": true,
   "skip_h1_title": false,
   "title_cell": "Table of Contents",
   "title_sidebar": "Contents",
   "toc_cell": false,
   "toc_position": {},
   "toc_section_display": true,
   "toc_window_display": false
  }
 },
 "nbformat": 4,
 "nbformat_minor": 4
}
